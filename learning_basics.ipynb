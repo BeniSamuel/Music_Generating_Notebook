{
 "cells": [
  {
   "cell_type": "code",
   "execution_count": 210,
   "id": "4d804852-3af2-47e8-862b-f8c8d3ec903d",
   "metadata": {},
   "outputs": [
    {
     "data": {
      "text/plain": [
       "1.0"
      ]
     },
     "execution_count": 210,
     "metadata": {},
     "output_type": "execute_result"
    }
   ],
   "source": [
    "import pandas as pd\n",
    "from sklearn.tree import DecisionTreeClassifier\n",
    "from sklearn.model_selection import train_test_split\n",
    "from sklearn.metrics import accuracy_score\n",
    "import joblib  \n",
    "from sklearn import tree\n",
    "\n",
    "music_df = pd.read_csv('music.csv')\n",
    "X = music_df.drop(columns=['genre']) \n",
    "y = music_df['genre']\n",
    "X_train, X_test, y_train, y_test = train_test_split(X, y, test_size=0.2)\n",
    "\n",
    "model = DecisionTreeClassifier()\n",
    "model.fit(X_train, y_train)\n",
    "\n",
    "# Save the model\n",
    "joblib.dump(model, 'music-recommender.joblib')\n",
    "\n",
    "# tree.export_graphviz(model, out_file=\"music_recommender.dot\", feature_names[\"age\",\"gender\"], class_names=sorted(y.unique[])\n",
    "\n",
    "# Predict and evaluate\n",
    "predictions = model.predict(X_test)\n",
    "score_accuracy = accuracy_score(y_test, predictions)\n",
    "score_accuracy\n"
   ]
  },
  {
   "cell_type": "code",
   "execution_count": null,
   "id": "cd0a920d-bccf-474e-8f9b-ebc5cfac9d3b",
   "metadata": {},
   "outputs": [],
   "source": []
  },
  {
   "cell_type": "code",
   "execution_count": null,
   "id": "ae079212-e020-4123-b578-c3548ae59b0f",
   "metadata": {},
   "outputs": [],
   "source": []
  }
 ],
 "metadata": {
  "kernelspec": {
   "display_name": "Python 3 (ipykernel)",
   "language": "python",
   "name": "python3"
  },
  "language_info": {
   "codemirror_mode": {
    "name": "ipython",
    "version": 3
   },
   "file_extension": ".py",
   "mimetype": "text/x-python",
   "name": "python",
   "nbconvert_exporter": "python",
   "pygments_lexer": "ipython3",
   "version": "3.12.4"
  }
 },
 "nbformat": 4,
 "nbformat_minor": 5
}
